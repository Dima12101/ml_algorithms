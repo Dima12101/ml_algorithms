{
 "cells": [
  {
   "cell_type": "code",
   "execution_count": 35,
   "metadata": {},
   "outputs": [],
   "source": [
    "import numpy as np\n",
    "import pandas as pd\n",
    "from sklearn.cluster import KMeans\n",
    "from sklearn.cluster import DBSCAN\n",
    "from scipy.cluster.hierarchy import dendrogram, linkage, fcluster\n",
    "from matplotlib.pyplot import (axes,axis,title,legend,figure,\n",
    "                               xlabel,ylabel,xticks,yticks,\n",
    "                               xscale,yscale,text,grid,\n",
    "                               plot,scatter,errorbar,hist,polar,\n",
    "                               contour,contourf,colorbar,clabel,\n",
    "                               imshow)\n",
    "import matplotlib.pyplot as plt\n",
    "matplotlib.style.use('ggplot')\n",
    "%matplotlib inline\n",
    "\n",
    "import os\n",
    "os.chdir(\"C:/Users/ACER/anaconda3/data_analys/Lect_04/задача_2_Economics of Cities/\")"
   ]
  },
  {
   "cell_type": "code",
   "execution_count": 7,
   "metadata": {},
   "outputs": [
    {
     "data": {
      "text/html": [
       "<div>\n",
       "<style scoped>\n",
       "    .dataframe tbody tr th:only-of-type {\n",
       "        vertical-align: middle;\n",
       "    }\n",
       "\n",
       "    .dataframe tbody tr th {\n",
       "        vertical-align: top;\n",
       "    }\n",
       "\n",
       "    .dataframe thead th {\n",
       "        text-align: right;\n",
       "    }\n",
       "</style>\n",
       "<table border=\"1\" class=\"dataframe\">\n",
       "  <thead>\n",
       "    <tr style=\"text-align: right;\">\n",
       "      <th></th>\n",
       "      <th>x</th>\n",
       "      <th>y</th>\n",
       "    </tr>\n",
       "  </thead>\n",
       "  <tbody>\n",
       "    <tr>\n",
       "      <th>0</th>\n",
       "      <td>0</td>\n",
       "      <td>0</td>\n",
       "    </tr>\n",
       "    <tr>\n",
       "      <th>1</th>\n",
       "      <td>2</td>\n",
       "      <td>4</td>\n",
       "    </tr>\n",
       "    <tr>\n",
       "      <th>2</th>\n",
       "      <td>3</td>\n",
       "      <td>3</td>\n",
       "    </tr>\n",
       "    <tr>\n",
       "      <th>3</th>\n",
       "      <td>1</td>\n",
       "      <td>2</td>\n",
       "    </tr>\n",
       "    <tr>\n",
       "      <th>4</th>\n",
       "      <td>3</td>\n",
       "      <td>0</td>\n",
       "    </tr>\n",
       "  </tbody>\n",
       "</table>\n",
       "</div>"
      ],
      "text/plain": [
       "   x  y\n",
       "0  0  0\n",
       "1  2  4\n",
       "2  3  3\n",
       "3  1  2\n",
       "4  3  0"
      ]
     },
     "execution_count": 7,
     "metadata": {},
     "output_type": "execute_result"
    }
   ],
   "source": [
    "df = pd.read_csv(\"data_o.csv\", sep=\";\")\n",
    "df.head()"
   ]
  },
  {
   "cell_type": "code",
   "execution_count": 8,
   "metadata": {},
   "outputs": [
    {
     "data": {
      "text/plain": [
       "<matplotlib.collections.PathCollection at 0x19028dc95b0>"
      ]
     },
     "execution_count": 8,
     "metadata": {},
     "output_type": "execute_result"
    },
    {
     "data": {
      "image/png": "[encoded data removed]",
      "text/plain": [
       "<Figure size 432x288 with 1 Axes>"
      ]
     },
     "metadata": {
      "needs_background": "light"
     },
     "output_type": "display_data"
    }
   ],
   "source": [
    "scatter(df['x'],df['y'])\n",
    "# все кластеры визуально различимы"
   ]
  },
  {
   "cell_type": "code",
   "execution_count": 67,
   "metadata": {},
   "outputs": [
    {
     "data": {
      "text/html": [
       "<div>\n",
       "<style scoped>\n",
       "    .dataframe tbody tr th:only-of-type {\n",
       "        vertical-align: middle;\n",
       "    }\n",
       "\n",
       "    .dataframe tbody tr th {\n",
       "        vertical-align: top;\n",
       "    }\n",
       "\n",
       "    .dataframe thead th {\n",
       "        text-align: right;\n",
       "    }\n",
       "</style>\n",
       "<table border=\"1\" class=\"dataframe\">\n",
       "  <thead>\n",
       "    <tr style=\"text-align: right;\">\n",
       "      <th></th>\n",
       "      <th>x</th>\n",
       "      <th>y</th>\n",
       "      <th>dbscan_1</th>\n",
       "      <th>Kmeans</th>\n",
       "    </tr>\n",
       "    <tr>\n",
       "      <th>cluster</th>\n",
       "      <th></th>\n",
       "      <th></th>\n",
       "      <th></th>\n",
       "      <th></th>\n",
       "    </tr>\n",
       "  </thead>\n",
       "  <tbody>\n",
       "    <tr>\n",
       "      <th>1</th>\n",
       "      <td>1.857143</td>\n",
       "      <td>1.571429</td>\n",
       "      <td>0.0</td>\n",
       "      <td>4</td>\n",
       "    </tr>\n",
       "    <tr>\n",
       "      <th>2</th>\n",
       "      <td>13.000000</td>\n",
       "      <td>2.833333</td>\n",
       "      <td>2.0</td>\n",
       "      <td>1</td>\n",
       "    </tr>\n",
       "    <tr>\n",
       "      <th>3</th>\n",
       "      <td>24.000000</td>\n",
       "      <td>6.000000</td>\n",
       "      <td>-1.0</td>\n",
       "      <td>6</td>\n",
       "    </tr>\n",
       "    <tr>\n",
       "      <th>4</th>\n",
       "      <td>22.800000</td>\n",
       "      <td>21.200000</td>\n",
       "      <td>3.0</td>\n",
       "      <td>0</td>\n",
       "    </tr>\n",
       "    <tr>\n",
       "      <th>5</th>\n",
       "      <td>12.375000</td>\n",
       "      <td>15.875000</td>\n",
       "      <td>1.0</td>\n",
       "      <td>2</td>\n",
       "    </tr>\n",
       "    <tr>\n",
       "      <th>6</th>\n",
       "      <td>22.500000</td>\n",
       "      <td>38.250000</td>\n",
       "      <td>4.0</td>\n",
       "      <td>3</td>\n",
       "    </tr>\n",
       "    <tr>\n",
       "      <th>7</th>\n",
       "      <td>2.000000</td>\n",
       "      <td>26.000000</td>\n",
       "      <td>-1.0</td>\n",
       "      <td>7</td>\n",
       "    </tr>\n",
       "    <tr>\n",
       "      <th>8</th>\n",
       "      <td>10.000000</td>\n",
       "      <td>36.000000</td>\n",
       "      <td>-1.0</td>\n",
       "      <td>5</td>\n",
       "    </tr>\n",
       "  </tbody>\n",
       "</table>\n",
       "</div>"
      ],
      "text/plain": [
       "                 x          y  dbscan_1  Kmeans\n",
       "cluster                                        \n",
       "1         1.857143   1.571429       0.0       4\n",
       "2        13.000000   2.833333       2.0       1\n",
       "3        24.000000   6.000000      -1.0       6\n",
       "4        22.800000  21.200000       3.0       0\n",
       "5        12.375000  15.875000       1.0       2\n",
       "6        22.500000  38.250000       4.0       3\n",
       "7         2.000000  26.000000      -1.0       7\n",
       "8        10.000000  36.000000      -1.0       5"
      ]
     },
     "execution_count": 67,
     "metadata": {},
     "output_type": "execute_result"
    },
    {
     "data": {
      "image/png": "[encoded data removed]",
      "text/plain": [
       "<Figure size 432x288 with 1 Axes>"
      ]
     },
     "metadata": {
      "needs_background": "light"
     },
     "output_type": "display_data"
    }
   ],
   "source": [
    "link = linkage(df[['x','y']], 'ward', 'euclidean')\n",
    "dn = dendrogram(link, color_threshold = 10, labels=df.index.tolist())\n",
    "df['cluster'] = fcluster(link, 10, criterion='distance')\n",
    "df.groupby('cluster').mean()"
   ]
  },
  {
   "cell_type": "code",
   "execution_count": 68,
   "metadata": {},
   "outputs": [
    {
     "data": {
      "text/plain": [
       "Text(0, 0.5, 'Distance')"
      ]
     },
     "execution_count": 68,
     "metadata": {},
     "output_type": "execute_result"
    },
    {
     "data": {
      "image/png": "[encoded data removed]",
      "text/plain": [
       "<Figure size 432x288 with 1 Axes>"
      ]
     },
     "metadata": {
      "needs_background": "light"
     },
     "output_type": "display_data"
    }
   ],
   "source": [
    "dist = link[-15:-1, 2]\n",
    "#dist = link[-15:len(link)+1, 2]\n",
    "# первый вариант лучше, так как последняя точка на отображении искажает масштаб\n",
    "dist_rev = dist[::-1]\n",
    "idxs = range(1, len(dist) + 1)\n",
    "plt.plot(idxs, dist_rev, marker='o')\n",
    "plt.title('Distance between merged clusters')\n",
    "plt.xlabel('Step')\n",
    "plt.ylabel('Distance')\n"
   ]
  },
  {
   "cell_type": "code",
   "execution_count": 69,
   "metadata": {},
   "outputs": [
    {
     "data": {
      "text/plain": [
       "0     1\n",
       "1     1\n",
       "2     1\n",
       "3     1\n",
       "4     1\n",
       "5     1\n",
       "6     1\n",
       "20    2\n",
       "19    2\n",
       "18    2\n",
       "17    2\n",
       "15    2\n",
       "16    2\n",
       "31    3\n",
       "22    4\n",
       "25    4\n",
       "24    4\n",
       "23    4\n",
       "21    4\n",
       "12    5\n",
       "13    5\n",
       "8     5\n",
       "9     5\n",
       "10    5\n",
       "11    5\n",
       "14    5\n",
       "7     5\n",
       "26    6\n",
       "27    6\n",
       "28    6\n",
       "29    6\n",
       "30    7\n",
       "32    8\n",
       "Name: cluster, dtype: int32"
      ]
     },
     "execution_count": 69,
     "metadata": {},
     "output_type": "execute_result"
    }
   ],
   "source": [
    "df['cluster'].sort_values()\n",
    "# данный метод определяет те же кластеры, что при визуальном распознавании"
   ]
  },
  {
   "cell_type": "code",
   "execution_count": 16,
   "metadata": {},
   "outputs": [],
   "source": [
    "df2 = pd.read_csv(\"data_o.csv\", sep=\";\")"
   ]
  },
  {
   "cell_type": "code",
   "execution_count": 70,
   "metadata": {},
   "outputs": [
    {
     "data": {
      "image/png": "[encoded data removed]",
      "text/plain": [
       "<Figure size 432x288 with 1 Axes>"
      ]
     },
     "metadata": {
      "needs_background": "light"
     },
     "output_type": "display_data"
    }
   ],
   "source": [
    "cluster_number_range = range(5, 16)\n",
    "models = [KMeans(n_clusters=k, random_state=42).fit(df[['x','y']]) for k in cluster_number_range]\n",
    "dist = [model.inertia_ for model in models]\n",
    "\n",
    "# Plot the elbow\n",
    "plt.plot(cluster_number_range, dist, marker='o')\n",
    "plt.xlabel('k')\n",
    "plt.ylabel('Sum of distances')\n",
    "plt.title('The Elbow Method showing the optimal k')\n",
    "plt.show()"
   ]
  },
  {
   "cell_type": "code",
   "execution_count": 71,
   "metadata": {},
   "outputs": [
    {
     "data": {
      "text/plain": [
       "[(5, 588.8825396825397),\n",
       " (6, 323.1714285714286),\n",
       " (7, 180.0047619047619),\n",
       " (8, 97.5047619047619),\n",
       " (9, 79.2547619047619),\n",
       " (10, 62.82142857142858),\n",
       " (11, 52.00000000000001),\n",
       " (12, 44.416666666666664),\n",
       " (13, 39.83333333333333),\n",
       " (14, 31.0),\n",
       " (15, 27.333333333333332)]"
      ]
     },
     "execution_count": 71,
     "metadata": {},
     "output_type": "execute_result"
    }
   ],
   "source": [
    "cluster_number_range = range(5, 16)\n",
    "models = [KMeans(n_clusters=k, random_state=42).fit(df2) for k in cluster_number_range]\n",
    "dist = [(i+5, models[i].inertia_) for i in range(len(models))]\n",
    "dist"
   ]
  },
  {
   "cell_type": "code",
   "execution_count": 72,
   "metadata": {},
   "outputs": [
    {
     "data": {
      "text/html": [
       "<div>\n",
       "<style scoped>\n",
       "    .dataframe tbody tr th:only-of-type {\n",
       "        vertical-align: middle;\n",
       "    }\n",
       "\n",
       "    .dataframe tbody tr th {\n",
       "        vertical-align: top;\n",
       "    }\n",
       "\n",
       "    .dataframe thead th {\n",
       "        text-align: right;\n",
       "    }\n",
       "</style>\n",
       "<table border=\"1\" class=\"dataframe\">\n",
       "  <thead>\n",
       "    <tr style=\"text-align: right;\">\n",
       "      <th></th>\n",
       "      <th>x</th>\n",
       "      <th>y</th>\n",
       "    </tr>\n",
       "    <tr>\n",
       "      <th>Kmeans</th>\n",
       "      <th></th>\n",
       "      <th></th>\n",
       "    </tr>\n",
       "  </thead>\n",
       "  <tbody>\n",
       "    <tr>\n",
       "      <th>0</th>\n",
       "      <td>22.800000</td>\n",
       "      <td>21.200000</td>\n",
       "    </tr>\n",
       "    <tr>\n",
       "      <th>1</th>\n",
       "      <td>13.000000</td>\n",
       "      <td>2.833333</td>\n",
       "    </tr>\n",
       "    <tr>\n",
       "      <th>2</th>\n",
       "      <td>12.375000</td>\n",
       "      <td>15.875000</td>\n",
       "    </tr>\n",
       "    <tr>\n",
       "      <th>3</th>\n",
       "      <td>22.500000</td>\n",
       "      <td>38.250000</td>\n",
       "    </tr>\n",
       "    <tr>\n",
       "      <th>4</th>\n",
       "      <td>1.857143</td>\n",
       "      <td>1.571429</td>\n",
       "    </tr>\n",
       "    <tr>\n",
       "      <th>5</th>\n",
       "      <td>10.000000</td>\n",
       "      <td>36.000000</td>\n",
       "    </tr>\n",
       "    <tr>\n",
       "      <th>6</th>\n",
       "      <td>24.000000</td>\n",
       "      <td>6.000000</td>\n",
       "    </tr>\n",
       "    <tr>\n",
       "      <th>7</th>\n",
       "      <td>2.000000</td>\n",
       "      <td>26.000000</td>\n",
       "    </tr>\n",
       "  </tbody>\n",
       "</table>\n",
       "</div>"
      ],
      "text/plain": [
       "                x          y\n",
       "Kmeans                      \n",
       "0       22.800000  21.200000\n",
       "1       13.000000   2.833333\n",
       "2       12.375000  15.875000\n",
       "3       22.500000  38.250000\n",
       "4        1.857143   1.571429\n",
       "5       10.000000  36.000000\n",
       "6       24.000000   6.000000\n",
       "7        2.000000  26.000000"
      ]
     },
     "execution_count": 72,
     "metadata": {},
     "output_type": "execute_result"
    }
   ],
   "source": [
    "model = KMeans(n_clusters=8, random_state=42, max_iter=300, n_init=10, verbose=0 )\n",
    "model.fit(df2)\n",
    "\n",
    "#model.labels_\n",
    "df['Kmeans'] = model.labels_\n",
    "df[['x','y', 'Kmeans']].groupby('Kmeans').mean()"
   ]
  },
  {
   "cell_type": "code",
   "execution_count": 73,
   "metadata": {},
   "outputs": [],
   "source": [
    "df3 = pd.read_csv(\"data_o.csv\", sep=\";\")"
   ]
  },
  {
   "cell_type": "code",
   "execution_count": 79,
   "metadata": {},
   "outputs": [
    {
     "name": "stdout",
     "output_type": "stream",
     "text": [
      "[[-1  3]\n",
      " [ 0  7]\n",
      " [ 1  8]\n",
      " [ 2  6]\n",
      " [ 3  5]\n",
      " [ 4  4]]\n"
     ]
    }
   ],
   "source": [
    "\n",
    "dbscan_1 = DBSCAN(eps=6, metric='euclidean', min_samples=3)\n",
    "\n",
    "dbscan_1.fit(df[['x','y']])\n",
    "unique, counts = np.unique(dbscan_1.labels_, return_counts=True)\n",
    "df['dbscan'] = dbscan_1.labels_\n",
    "print(np.asarray((unique, counts)).T)\n",
    "#data_frame['cluster'] = dbscan_1.labels_\n",
    "#data_frame.groupby('cluster').mean()"
   ]
  },
  {
   "cell_type": "code",
   "execution_count": 80,
   "metadata": {},
   "outputs": [
    {
     "data": {
      "text/html": [
       "<div>\n",
       "<style scoped>\n",
       "    .dataframe tbody tr th:only-of-type {\n",
       "        vertical-align: middle;\n",
       "    }\n",
       "\n",
       "    .dataframe tbody tr th {\n",
       "        vertical-align: top;\n",
       "    }\n",
       "\n",
       "    .dataframe thead th {\n",
       "        text-align: right;\n",
       "    }\n",
       "</style>\n",
       "<table border=\"1\" class=\"dataframe\">\n",
       "  <thead>\n",
       "    <tr style=\"text-align: right;\">\n",
       "      <th></th>\n",
       "      <th>x</th>\n",
       "      <th>y</th>\n",
       "    </tr>\n",
       "    <tr>\n",
       "      <th>dbscan</th>\n",
       "      <th></th>\n",
       "      <th></th>\n",
       "    </tr>\n",
       "  </thead>\n",
       "  <tbody>\n",
       "    <tr>\n",
       "      <th>-1</th>\n",
       "      <td>12.000000</td>\n",
       "      <td>22.666667</td>\n",
       "    </tr>\n",
       "    <tr>\n",
       "      <th>0</th>\n",
       "      <td>1.857143</td>\n",
       "      <td>1.571429</td>\n",
       "    </tr>\n",
       "    <tr>\n",
       "      <th>1</th>\n",
       "      <td>12.375000</td>\n",
       "      <td>15.875000</td>\n",
       "    </tr>\n",
       "    <tr>\n",
       "      <th>2</th>\n",
       "      <td>13.000000</td>\n",
       "      <td>2.833333</td>\n",
       "    </tr>\n",
       "    <tr>\n",
       "      <th>3</th>\n",
       "      <td>22.800000</td>\n",
       "      <td>21.200000</td>\n",
       "    </tr>\n",
       "    <tr>\n",
       "      <th>4</th>\n",
       "      <td>22.500000</td>\n",
       "      <td>38.250000</td>\n",
       "    </tr>\n",
       "  </tbody>\n",
       "</table>\n",
       "</div>"
      ],
      "text/plain": [
       "                x          y\n",
       "dbscan                      \n",
       "-1      12.000000  22.666667\n",
       " 0       1.857143   1.571429\n",
       " 1      12.375000  15.875000\n",
       " 2      13.000000   2.833333\n",
       " 3      22.800000  21.200000\n",
       " 4      22.500000  38.250000"
      ]
     },
     "execution_count": 80,
     "metadata": {},
     "output_type": "execute_result"
    }
   ],
   "source": [
    "df[['x','y', 'dbscan']].groupby('dbscan').mean()"
   ]
  },
  {
   "cell_type": "code",
   "execution_count": 76,
   "metadata": {},
   "outputs": [
    {
     "data": {
      "text/html": [
       "<div>\n",
       "<style scoped>\n",
       "    .dataframe tbody tr th:only-of-type {\n",
       "        vertical-align: middle;\n",
       "    }\n",
       "\n",
       "    .dataframe tbody tr th {\n",
       "        vertical-align: top;\n",
       "    }\n",
       "\n",
       "    .dataframe thead th {\n",
       "        text-align: right;\n",
       "    }\n",
       "</style>\n",
       "<table border=\"1\" class=\"dataframe\">\n",
       "  <thead>\n",
       "    <tr style=\"text-align: right;\">\n",
       "      <th></th>\n",
       "      <th>x</th>\n",
       "      <th>y</th>\n",
       "    </tr>\n",
       "    <tr>\n",
       "      <th>Kmeans</th>\n",
       "      <th></th>\n",
       "      <th></th>\n",
       "    </tr>\n",
       "  </thead>\n",
       "  <tbody>\n",
       "    <tr>\n",
       "      <th>0</th>\n",
       "      <td>22.800000</td>\n",
       "      <td>21.200000</td>\n",
       "    </tr>\n",
       "    <tr>\n",
       "      <th>1</th>\n",
       "      <td>13.000000</td>\n",
       "      <td>2.833333</td>\n",
       "    </tr>\n",
       "    <tr>\n",
       "      <th>2</th>\n",
       "      <td>12.375000</td>\n",
       "      <td>15.875000</td>\n",
       "    </tr>\n",
       "    <tr>\n",
       "      <th>3</th>\n",
       "      <td>22.500000</td>\n",
       "      <td>38.250000</td>\n",
       "    </tr>\n",
       "    <tr>\n",
       "      <th>4</th>\n",
       "      <td>1.857143</td>\n",
       "      <td>1.571429</td>\n",
       "    </tr>\n",
       "    <tr>\n",
       "      <th>5</th>\n",
       "      <td>10.000000</td>\n",
       "      <td>36.000000</td>\n",
       "    </tr>\n",
       "    <tr>\n",
       "      <th>6</th>\n",
       "      <td>24.000000</td>\n",
       "      <td>6.000000</td>\n",
       "    </tr>\n",
       "    <tr>\n",
       "      <th>7</th>\n",
       "      <td>2.000000</td>\n",
       "      <td>26.000000</td>\n",
       "    </tr>\n",
       "  </tbody>\n",
       "</table>\n",
       "</div>"
      ],
      "text/plain": [
       "                x          y\n",
       "Kmeans                      \n",
       "0       22.800000  21.200000\n",
       "1       13.000000   2.833333\n",
       "2       12.375000  15.875000\n",
       "3       22.500000  38.250000\n",
       "4        1.857143   1.571429\n",
       "5       10.000000  36.000000\n",
       "6       24.000000   6.000000\n",
       "7        2.000000  26.000000"
      ]
     },
     "execution_count": 76,
     "metadata": {},
     "output_type": "execute_result"
    }
   ],
   "source": [
    "df[['x','y', 'Kmeans']].groupby('Kmeans').mean()\n"
   ]
  },
  {
   "cell_type": "code",
   "execution_count": 77,
   "metadata": {},
   "outputs": [
    {
     "data": {
      "text/html": [
       "<div>\n",
       "<style scoped>\n",
       "    .dataframe tbody tr th:only-of-type {\n",
       "        vertical-align: middle;\n",
       "    }\n",
       "\n",
       "    .dataframe tbody tr th {\n",
       "        vertical-align: top;\n",
       "    }\n",
       "\n",
       "    .dataframe thead th {\n",
       "        text-align: right;\n",
       "    }\n",
       "</style>\n",
       "<table border=\"1\" class=\"dataframe\">\n",
       "  <thead>\n",
       "    <tr style=\"text-align: right;\">\n",
       "      <th></th>\n",
       "      <th>x</th>\n",
       "      <th>y</th>\n",
       "    </tr>\n",
       "    <tr>\n",
       "      <th>cluster</th>\n",
       "      <th></th>\n",
       "      <th></th>\n",
       "    </tr>\n",
       "  </thead>\n",
       "  <tbody>\n",
       "    <tr>\n",
       "      <th>1</th>\n",
       "      <td>1.857143</td>\n",
       "      <td>1.571429</td>\n",
       "    </tr>\n",
       "    <tr>\n",
       "      <th>2</th>\n",
       "      <td>13.000000</td>\n",
       "      <td>2.833333</td>\n",
       "    </tr>\n",
       "    <tr>\n",
       "      <th>3</th>\n",
       "      <td>24.000000</td>\n",
       "      <td>6.000000</td>\n",
       "    </tr>\n",
       "    <tr>\n",
       "      <th>4</th>\n",
       "      <td>22.800000</td>\n",
       "      <td>21.200000</td>\n",
       "    </tr>\n",
       "    <tr>\n",
       "      <th>5</th>\n",
       "      <td>12.375000</td>\n",
       "      <td>15.875000</td>\n",
       "    </tr>\n",
       "    <tr>\n",
       "      <th>6</th>\n",
       "      <td>22.500000</td>\n",
       "      <td>38.250000</td>\n",
       "    </tr>\n",
       "    <tr>\n",
       "      <th>7</th>\n",
       "      <td>2.000000</td>\n",
       "      <td>26.000000</td>\n",
       "    </tr>\n",
       "    <tr>\n",
       "      <th>8</th>\n",
       "      <td>10.000000</td>\n",
       "      <td>36.000000</td>\n",
       "    </tr>\n",
       "  </tbody>\n",
       "</table>\n",
       "</div>"
      ],
      "text/plain": [
       "                 x          y\n",
       "cluster                      \n",
       "1         1.857143   1.571429\n",
       "2        13.000000   2.833333\n",
       "3        24.000000   6.000000\n",
       "4        22.800000  21.200000\n",
       "5        12.375000  15.875000\n",
       "6        22.500000  38.250000\n",
       "7         2.000000  26.000000\n",
       "8        10.000000  36.000000"
      ]
     },
     "execution_count": 77,
     "metadata": {},
     "output_type": "execute_result"
    }
   ],
   "source": [
    "df[['x','y', 'cluster']].groupby('cluster').mean()"
   ]
  },
  {
   "cell_type": "code",
   "execution_count": 81,
   "metadata": {},
   "outputs": [
    {
     "name": "stdout",
     "output_type": "stream",
     "text": [
      "cluster  1  2  3  4  5  6  7  8\n",
      "dbscan                         \n",
      "-1       0  0  1  0  0  0  1  1\n",
      " 0       7  0  0  0  0  0  0  0\n",
      " 1       0  0  0  0  8  0  0  0\n",
      " 2       0  6  0  0  0  0  0  0\n",
      " 3       0  0  0  5  0  0  0  0\n",
      " 4       0  0  0  0  0  4  0  0\n",
      "###############################\n",
      "Kmeans  0  1  2  3  4  5  6  7\n",
      "dbscan                        \n",
      "-1      0  0  0  0  0  1  1  1\n",
      " 0      0  0  0  0  7  0  0  0\n",
      " 1      0  0  8  0  0  0  0  0\n",
      " 2      0  6  0  0  0  0  0  0\n",
      " 3      5  0  0  0  0  0  0  0\n",
      " 4      0  0  0  4  0  0  0  0\n",
      "###############################\n",
      "Kmeans   0  1  2  3  4  5  6  7\n",
      "cluster                        \n",
      "1        0  0  0  0  7  0  0  0\n",
      "2        0  6  0  0  0  0  0  0\n",
      "3        0  0  0  0  0  0  1  0\n",
      "4        5  0  0  0  0  0  0  0\n",
      "5        0  0  8  0  0  0  0  0\n",
      "6        0  0  0  4  0  0  0  0\n",
      "7        0  0  0  0  0  0  0  1\n",
      "8        0  0  0  0  0  1  0  0\n"
     ]
    }
   ],
   "source": [
    "tab1 = pd.crosstab(df['dbscan'], df['cluster'])\n",
    "tab2 = pd.crosstab(df['dbscan'], df['Kmeans'])\n",
    "tab3 = pd.crosstab(df['cluster'], df['Kmeans'])\n",
    "\n",
    "print(tab1)\n",
    "print('###############################')\n",
    "print(tab2)\n",
    "print('###############################')\n",
    "print(tab3)"
   ]
  },
  {
   "cell_type": "code",
   "execution_count": null,
   "metadata": {},
   "outputs": [],
   "source": [
    "# как видно из таблицы все 3 метода определяют одни и те же кластеры"
   ]
  }
 ],
 "metadata": {
  "kernelspec": {
   "display_name": "clust_env",
   "language": "python",
   "name": "clust_env"
  },
  "language_info": {
   "codemirror_mode": {
    "name": "ipython",
    "version": 3
   },
   "file_extension": ".py",
   "mimetype": "text/x-python",
   "name": "python",
   "nbconvert_exporter": "python",
   "pygments_lexer": "ipython3",
   "version": "3.8.5"
  }
 },
 "nbformat": 4,
 "nbformat_minor": 4
}
